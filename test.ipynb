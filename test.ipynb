{
 "cells": [
  {
   "cell_type": "code",
   "execution_count": 22,
   "metadata": {},
   "outputs": [],
   "source": [
    "def bresenham(start_point, end_point):\n",
    "    # Adapted from:\n",
    "    # https://www.geeksforgeeks.org/bresenhams-line-generation-algorithm/\n",
    "    \n",
    "    points_in_line = []\n",
    "    \n",
    "    x1, y1 = start_point\n",
    "    x2, y2 = end_point\n",
    "    \n",
    "    reverse = False\n",
    "    if x2<x1:\n",
    "        reverse = True\n",
    "        x1, x2 = x2, x1\n",
    "        y1, y2 = y2, y1\n",
    "        \n",
    "    \n",
    "    m_new = 2 * (y2 - y1)\n",
    "    slope_error_new = m_new - (x2 - x1)\n",
    " \n",
    "    y = y1\n",
    "    for x in range(x1, x2+1):\n",
    " \n",
    "        points_in_line.append((x,y))\n",
    " \n",
    "        # Add slope to increment angle formed\n",
    "        slope_error_new = slope_error_new + m_new\n",
    " \n",
    "        # Slope error reached limit, time to\n",
    "        # increment y and update slope error.\n",
    "        if (slope_error_new >= 0):\n",
    "            y = y+1\n",
    "            slope_error_new = slope_error_new - 2 * (x2 - x1)\n",
    "    if reverse:  \n",
    "        points_in_line.reverse()      \n",
    "        return points_in_line\n",
    "    else:\n",
    "        return points_in_line"
   ]
  },
  {
   "cell_type": "code",
   "execution_count": 23,
   "metadata": {},
   "outputs": [
    {
     "data": {
      "text/plain": [
       "[(0, 0),\n",
       " (-1, -1),\n",
       " (-2, -2),\n",
       " (-3, -3),\n",
       " (-4, -4),\n",
       " (-5, -5),\n",
       " (-6, -6),\n",
       " (-7, -7),\n",
       " (-8, -8),\n",
       " (-9, -9)]"
      ]
     },
     "execution_count": 23,
     "metadata": {},
     "output_type": "execute_result"
    }
   ],
   "source": [
    "start_point = (0,0)\n",
    "end_point = (-9,-9)\n",
    "\n",
    "bresenham(start_point, end_point)"
   ]
  },
  {
   "cell_type": "code",
   "execution_count": null,
   "metadata": {},
   "outputs": [],
   "source": []
  },
  {
   "cell_type": "code",
   "execution_count": null,
   "metadata": {},
   "outputs": [],
   "source": []
  }
 ],
 "metadata": {
  "kernelspec": {
   "display_name": "Python 3.9.13 ('datathon')",
   "language": "python",
   "name": "python3"
  },
  "language_info": {
   "codemirror_mode": {
    "name": "ipython",
    "version": 3
   },
   "file_extension": ".py",
   "mimetype": "text/x-python",
   "name": "python",
   "nbconvert_exporter": "python",
   "pygments_lexer": "ipython3",
   "version": "3.9.13"
  },
  "orig_nbformat": 4,
  "vscode": {
   "interpreter": {
    "hash": "85d6c0ae2c103aba7413ffc5643c76b9c827604bc6759143305e36799a097d75"
   }
  }
 },
 "nbformat": 4,
 "nbformat_minor": 2
}
